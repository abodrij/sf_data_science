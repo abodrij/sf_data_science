{
 "cells": [
  {
   "cell_type": "code",
   "execution_count": null,
   "metadata": {},
   "outputs": [],
   "source": [
    "# 1"
   ]
  },
  {
   "cell_type": "code",
   "execution_count": null,
   "metadata": {},
   "outputs": [],
   "source": [
    "# 2"
   ]
  },
  {
   "cell_type": "code",
   "execution_count": null,
   "metadata": {},
   "outputs": [],
   "source": [
    "# 3"
   ]
  },
  {
   "cell_type": "code",
   "execution_count": null,
   "metadata": {},
   "outputs": [],
   "source": [
    "# 4"
   ]
  },
  {
   "cell_type": "code",
   "execution_count": null,
   "metadata": {},
   "outputs": [],
   "source": [
    "# 5\n",
    "\n",
    "# SELECT name, description\n",
    "# FROM A\n",
    "# UNION\n",
    "# SELECT name, description\n",
    "# FROM B"
   ]
  },
  {
   "cell_type": "code",
   "execution_count": null,
   "metadata": {},
   "outputs": [],
   "source": [
    "# 6"
   ]
  },
  {
   "cell_type": "code",
   "execution_count": null,
   "metadata": {},
   "outputs": [],
   "source": [
    "# 7"
   ]
  },
  {
   "cell_type": "code",
   "execution_count": null,
   "metadata": {},
   "outputs": [],
   "source": [
    "# 8"
   ]
  },
  {
   "cell_type": "code",
   "execution_count": null,
   "metadata": {},
   "outputs": [],
   "source": [
    "# 9"
   ]
  },
  {
   "cell_type": "code",
   "execution_count": null,
   "metadata": {},
   "outputs": [],
   "source": [
    "# 10\n",
    "\n",
    "# Жанр с NULL должен выводиться в выборке?\n",
    "# Если фильмов для жанра нет, то его не выводим"
   ]
  },
  {
   "cell_type": "code",
   "execution_count": null,
   "metadata": {},
   "outputs": [],
   "source": [
    "# 11"
   ]
  },
  {
   "cell_type": "code",
   "execution_count": null,
   "metadata": {},
   "outputs": [],
   "source": [
    "# 12"
   ]
  },
  {
   "cell_type": "code",
   "execution_count": null,
   "metadata": {},
   "outputs": [],
   "source": [
    "# 13\n",
    "\n",
    "\n",
    "# Ожидаемый ответ:\n",
    "\n",
    "# genre_name    average_rating    movie_count    \n",
    "# -------------------------------------------\n",
    "# Триллер       None              0              \n",
    "# Драма         8.9               1              \n",
    "# Криминал      8.6               3              \n",
    "# Комедия       7.64              6              \n",
    "# Ужасы         7.5               1              \n",
    "# Мелодрама     6.75              2\n",
    "\n",
    "# Ваш ответ:\n",
    "\n",
    "# genre_name    average_rating    movie_count    \n",
    "# -------------------------------------------\n",
    "# Мелодрама     6.75              2              \n",
    "# Ужасы         7.5               1              \n",
    "# Комедия       7.64              6              \n",
    "# Криминал      8.6               3              \n",
    "# Драма         8.9               1              \n",
    "# Триллер       None              1  "
   ]
  },
  {
   "cell_type": "code",
   "execution_count": null,
   "metadata": {},
   "outputs": [],
   "source": [
    "# 14"
   ]
  },
  {
   "cell_type": "code",
   "execution_count": null,
   "metadata": {},
   "outputs": [],
   "source": [
    "# 15"
   ]
  },
  {
   "cell_type": "code",
   "execution_count": null,
   "metadata": {},
   "outputs": [],
   "source": [
    "# 16\n",
    "# Просьба чётче сформулировать задание, потому что я всё сделал по нему, а неверно\n",
    "# Однако, в заблуждение немного вводит подсказка. Если убрать слово select , будет корректней.\n",
    "\n",
    "# select *\n",
    "# from sqlprotest.movies m\n",
    "# left join sqlprotest.movie_genres mg on m.id = mg.movie_id\n",
    "# left join sqlprotest.genres g on g.id = mg.genre_id\n",
    "# where g.name != 'Криминал'\n",
    "# order by m.name"
   ]
  }
 ],
 "metadata": {
  "kernelspec": {
   "display_name": "Python 3",
   "language": "python",
   "name": "python3"
  },
  "language_info": {
   "name": "python",
   "version": "3.10.2 (tags/v3.10.2:a58ebcc, Jan 17 2022, 14:12:15) [MSC v.1929 64 bit (AMD64)]"
  },
  "orig_nbformat": 4,
  "vscode": {
   "interpreter": {
    "hash": "7433707d81ffd2c707b178ba77df086fd6a94974051f69c2eac1d1de59e1235d"
   }
  }
 },
 "nbformat": 4,
 "nbformat_minor": 2
}
